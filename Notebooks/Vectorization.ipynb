{
 "cells": [
  {
   "cell_type": "code",
   "execution_count": 1,
   "metadata": {
    "collapsed": false
   },
   "outputs": [
    {
     "name": "stdout",
     "output_type": "stream",
     "text": [
      "size =  548844\n"
     ]
    }
   ],
   "source": [
    "size = ceil(rand() * 10^6)\n",
    "\n",
    "u = rand(1, size);\n",
    "v = rand(1, size);\n",
    "\n",
    "w1 = zeros(1, size);\n",
    "w2 = zeros(1, size);"
   ]
  },
  {
   "cell_type": "code",
   "execution_count": 2,
   "metadata": {
    "collapsed": false
   },
   "outputs": [
    {
     "name": "stdout",
     "output_type": "stream",
     "text": [
      "   1.1197e-04\n"
     ]
    }
   ],
   "source": [
    "ti_0 = now();\n",
    "\n",
    "for i=1:length(u),\n",
    "    w1(i) = 2 * u(i) + 5 * v(i);\n",
    "end;\n",
    "\n",
    "diff_i = now() - ti_0;\n",
    "disp(diff_i)"
   ]
  },
  {
   "cell_type": "code",
   "execution_count": 3,
   "metadata": {
    "collapsed": false
   },
   "outputs": [
    {
     "name": "stdout",
     "output_type": "stream",
     "text": [
      "   9.3377e-07\n"
     ]
    }
   ],
   "source": [
    "tv_0 = now();\n",
    "\n",
    "w2 = 2 * u + 5 * v;\n",
    "\n",
    "diff_v = now() -tv_0;\n",
    "disp(diff_v)"
   ]
  },
  {
   "cell_type": "code",
   "execution_count": 4,
   "metadata": {
    "collapsed": false
   },
   "outputs": [
    {
     "name": "stdout",
     "output_type": "stream",
     "text": [
      "Relative time vectorial/iterative approach 0.834%\n"
     ]
    }
   ],
   "source": [
    "disp(\n",
    "    sprintf(\"Relative time vectorial/iterative approach %0.3f%%\", diff_v * 100 / diff_i)\n",
    ")"
   ]
  },
  {
   "cell_type": "code",
   "execution_count": 5,
   "metadata": {
    "collapsed": false
   },
   "outputs": [
    {
     "name": "stdout",
     "output_type": "stream",
     "text": [
      "Equal vectors\n"
     ]
    }
   ],
   "source": [
    "if sum(w1 == w2) == length(w1),\n",
    "    disp('Equal vectors');\n",
    "else\n",
    "    disp('Something is wrong')\n",
    "end"
   ]
  }
 ],
 "metadata": {
  "kernelspec": {
   "display_name": "Octave",
   "language": "octave",
   "name": "octave"
  },
  "language_info": {
   "file_extension": ".m",
   "help_links": [
    {
     "text": "GNU Octave",
     "url": "https://www.gnu.org/software/octave/support.html"
    },
    {
     "text": "Octave Kernel",
     "url": "https://github.com/Calysto/octave_kernel"
    },
    {
     "text": "MetaKernel Magics",
     "url": "https://github.com/calysto/metakernel/blob/master/metakernel/magics/README.md"
    }
   ],
   "mimetype": "text/x-octave",
   "name": "octave",
   "version": "4.0.3"
  }
 },
 "nbformat": 4,
 "nbformat_minor": 2
}
