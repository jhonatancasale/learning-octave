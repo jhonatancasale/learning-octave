{
 "cells": [
  {
   "cell_type": "markdown",
   "metadata": {},
   "source": [
    "# Useful computations\n",
    "\n",
    "- Matrix Multiplication\n",
    "- Element wise operations\n",
    "- Transposition\n",
    "- Find\n",
    "- max, sum, prod, ceil, floor, abs\n",
    "- Trace\n",
    "- Pseudoinverse"
   ]
  },
  {
   "cell_type": "markdown",
   "metadata": {},
   "source": [
    "#### Some initializations"
   ]
  },
  {
   "cell_type": "code",
   "execution_count": 1,
   "metadata": {
    "collapsed": false
   },
   "outputs": [
    {
     "name": "stdout",
     "output_type": "stream",
     "text": [
      "A =\n",
      "\n",
      "   1   2\n",
      "   3   4\n",
      "   5   6\n",
      "\n",
      "B =\n",
      "\n",
      "   11   12\n",
      "   13   14\n",
      "   15   16\n",
      "\n",
      "C =\n",
      "\n",
      "   1   1\n",
      "   2   2\n",
      "\n"
     ]
    }
   ],
   "source": [
    "A = [1 2; 3 4; 5 6]\n",
    "B = [11 12; 13 14; 15 16]\n",
    "C = [1 1; 2 2]"
   ]
  },
  {
   "cell_type": "markdown",
   "metadata": {},
   "source": [
    "## Matrix multiplication"
   ]
  },
  {
   "cell_type": "code",
   "execution_count": 2,
   "metadata": {
    "collapsed": false
   },
   "outputs": [
    {
     "name": "stdout",
     "output_type": "stream",
     "text": [
      "ans =\n",
      "\n",
      "    5    5\n",
      "   11   11\n",
      "   17   17\n",
      "\n"
     ]
    }
   ],
   "source": [
    "A * C"
   ]
  },
  {
   "cell_type": "markdown",
   "metadata": {},
   "source": [
    "## Vector or Matrix element wise operations"
   ]
  },
  {
   "cell_type": "code",
   "execution_count": 3,
   "metadata": {
    "collapsed": false
   },
   "outputs": [
    {
     "name": "stdout",
     "output_type": "stream",
     "text": [
      "ans =\n",
      "\n",
      "   11   24\n",
      "   39   56\n",
      "   75   96\n",
      "\n"
     ]
    }
   ],
   "source": [
    "A .* B % <-- period (.) is usually used to indicate element wise operations"
   ]
  },
  {
   "cell_type": "code",
   "execution_count": 4,
   "metadata": {
    "collapsed": false
   },
   "outputs": [
    {
     "name": "stdout",
     "output_type": "stream",
     "text": [
      "ans =\n",
      "\n",
      "    1    4\n",
      "    9   16\n",
      "   25   36\n",
      "\n"
     ]
    }
   ],
   "source": [
    "A .^ 2"
   ]
  },
  {
   "cell_type": "code",
   "execution_count": 5,
   "metadata": {
    "collapsed": false,
    "scrolled": true
   },
   "outputs": [
    {
     "name": "stdout",
     "output_type": "stream",
     "text": [
      "ans =\n",
      "\n",
      "   1.00000   0.50000\n",
      "   0.33333   0.25000\n",
      "   0.20000   0.16667\n",
      "\n"
     ]
    }
   ],
   "source": [
    "1 ./ A"
   ]
  },
  {
   "cell_type": "code",
   "execution_count": 6,
   "metadata": {
    "collapsed": false
   },
   "outputs": [
    {
     "name": "stdout",
     "output_type": "stream",
     "text": [
      "v =\n",
      "\n",
      "   1\n",
      "   2\n",
      "   3\n",
      "\n",
      "ans =\n",
      "\n",
      "   1.00000\n",
      "   0.50000\n",
      "   0.33333\n",
      "\n"
     ]
    }
   ],
   "source": [
    "v = [1; 2; 3]\n",
    "\n",
    "1 ./ v"
   ]
  },
  {
   "cell_type": "code",
   "execution_count": 7,
   "metadata": {
    "collapsed": false
   },
   "outputs": [
    {
     "name": "stdout",
     "output_type": "stream",
     "text": [
      "ans =\n",
      "\n",
      "   0.00000\n",
      "   0.69315\n",
      "   1.09861\n",
      "\n"
     ]
    }
   ],
   "source": [
    "log(v)"
   ]
  },
  {
   "cell_type": "code",
   "execution_count": 8,
   "metadata": {
    "collapsed": false
   },
   "outputs": [
    {
     "name": "stdout",
     "output_type": "stream",
     "text": [
      "ans =\n",
      "\n",
      "    2.7183\n",
      "    7.3891\n",
      "   20.0855\n",
      "\n"
     ]
    }
   ],
   "source": [
    "exp(v)"
   ]
  },
  {
   "cell_type": "code",
   "execution_count": 9,
   "metadata": {
    "collapsed": false
   },
   "outputs": [
    {
     "name": "stdout",
     "output_type": "stream",
     "text": [
      "ans =\n",
      "\n",
      "   1\n",
      "   2\n",
      "   3\n",
      "\n"
     ]
    }
   ],
   "source": [
    "abs([-1; 2; -3])"
   ]
  },
  {
   "cell_type": "code",
   "execution_count": 10,
   "metadata": {
    "collapsed": false
   },
   "outputs": [
    {
     "name": "stdout",
     "output_type": "stream",
     "text": [
      "ans =\n",
      "\n",
      "  -1\n",
      "  -2\n",
      "  -3\n",
      "\n"
     ]
    }
   ],
   "source": [
    "-v % same as -1 * v"
   ]
  },
  {
   "cell_type": "code",
   "execution_count": 11,
   "metadata": {
    "collapsed": false
   },
   "outputs": [
    {
     "name": "stdout",
     "output_type": "stream",
     "text": [
      "ans =\n",
      "\n",
      "   2\n",
      "   3\n",
      "   4\n",
      "\n"
     ]
    }
   ],
   "source": [
    "v + ones(length(v), 1)"
   ]
  },
  {
   "cell_type": "code",
   "execution_count": 12,
   "metadata": {
    "collapsed": false
   },
   "outputs": [
    {
     "name": "stdout",
     "output_type": "stream",
     "text": [
      "ans =\n",
      "\n",
      "   2\n",
      "   3\n",
      "   4\n",
      "\n"
     ]
    }
   ],
   "source": [
    "% or simply\n",
    "v + 1"
   ]
  },
  {
   "cell_type": "markdown",
   "metadata": {},
   "source": [
    "## Transposition"
   ]
  },
  {
   "cell_type": "code",
   "execution_count": 13,
   "metadata": {
    "collapsed": false
   },
   "outputs": [
    {
     "name": "stdout",
     "output_type": "stream",
     "text": [
      "ans =\n",
      "\n",
      "   1   3   5\n",
      "   2   4   6\n",
      "\n"
     ]
    }
   ],
   "source": [
    "A'"
   ]
  },
  {
   "cell_type": "code",
   "execution_count": 14,
   "metadata": {
    "collapsed": false
   },
   "outputs": [
    {
     "name": "stdout",
     "output_type": "stream",
     "text": [
      "ans =\n",
      "\n",
      "   1   2\n",
      "   3   4\n",
      "   5   6\n",
      "\n"
     ]
    }
   ],
   "source": [
    "(A')'"
   ]
  },
  {
   "cell_type": "code",
   "execution_count": 15,
   "metadata": {
    "collapsed": false
   },
   "outputs": [
    {
     "name": "stdout",
     "output_type": "stream",
     "text": [
      "a =\n",
      "\n",
      "    1.00000   15.00000    2.00000    0.50000\n",
      "\n"
     ]
    }
   ],
   "source": [
    "a = [1 15 2 .5]"
   ]
  },
  {
   "cell_type": "markdown",
   "metadata": {},
   "source": [
    "## Find"
   ]
  },
  {
   "cell_type": "code",
   "execution_count": 16,
   "metadata": {
    "collapsed": false
   },
   "outputs": [
    {
     "name": "stdout",
     "output_type": "stream",
     "text": [
      "'find' is a built-in function from the file libinterp/corefcn/find.cc\n",
      "\n",
      " -- Built-in Function: IDX = find (X)\n",
      " -- Built-in Function: IDX = find (X, N)\n",
      " -- Built-in Function: IDX = find (X, N, DIRECTION)\n",
      " -- Built-in Function: [i, j] = find (...)\n",
      " -- Built-in Function: [i, j, v] = find (...)\n",
      "     Return a vector of indices of nonzero elements of a matrix, as a\n",
      "     row if X is a row vector or as a column otherwise.\n",
      "\n",
      "     To obtain a single index for each matrix element, Octave pretends\n",
      "     that the columns of a matrix form one long vector (like Fortran\n",
      "     arrays are stored).  For example:\n",
      "\n",
      "          find (eye (2))\n",
      "            => [ 1; 4 ]\n",
      "\n",
      "     If two inputs are given, N indicates the maximum number of elements\n",
      "     to find from the beginning of the matrix or vector.\n",
      "\n",
      "     If three inputs are given, DIRECTION should be one of \"first\" or\n",
      "     \"last\", requesting only the first or last N indices, respectively.\n",
      "     However, the indices are always returned in ascending order.\n",
      "\n",
      "     If two outputs are requested, 'find' returns the row and column\n",
      "     indices of nonzero elements of a matrix.  For example:\n",
      "\n",
      "          [i, j] = find (2 * eye (2))\n",
      "              => i = [ 1; 2 ]\n",
      "              => j = [ 1; 2 ]\n",
      "\n",
      "     If three outputs are requested, 'find' also returns a vector\n",
      "     containing the nonzero values.  For example:\n",
      "\n",
      "          [i, j, v] = find (3 * eye (2))\n",
      "                 => i = [ 1; 2 ]\n",
      "                 => j = [ 1; 2 ]\n",
      "                 => v = [ 3; 3 ]\n",
      "\n",
      "     Note that this function is particularly useful for sparse matrices,\n",
      "     as it extracts the nonzero elements as vectors, which can then be\n",
      "     used to create the original matrix.  For example:\n",
      "\n",
      "          sz = size (a);\n",
      "          [i, j, v] = find (a);\n",
      "          b = sparse (i, j, v, sz(1), sz(2));\n",
      "\n",
      "     See also: nonzeros.\n",
      "\n",
      "Additional help for built-in functions and operators is\n",
      "available in the online version of the manual.  Use the command\n",
      "'doc <topic>' to search the manual index.\n",
      "\n",
      "Help and information about Octave is also available on the WWW\n",
      "at http://www.octave.org and via the help@octave.org\n",
      "mailing list.\n"
     ]
    }
   ],
   "source": [
    "help find"
   ]
  },
  {
   "cell_type": "code",
   "execution_count": 17,
   "metadata": {
    "collapsed": false
   },
   "outputs": [
    {
     "name": "stdout",
     "output_type": "stream",
     "text": [
      "ans =\n",
      "\n",
      "   1   3   4\n",
      "\n"
     ]
    }
   ],
   "source": [
    "find(a < 3) % each element of `a` is < 3"
   ]
  },
  {
   "cell_type": "markdown",
   "metadata": {},
   "source": [
    "### Magic Matrices"
   ]
  },
  {
   "cell_type": "code",
   "execution_count": 18,
   "metadata": {
    "collapsed": false
   },
   "outputs": [
    {
     "name": "stdout",
     "output_type": "stream",
     "text": [
      "'magic' is a function from the file /usr/share/octave/4.0.3/m/special-matrix/magic.m\n",
      "\n",
      " -- Function File: magic (N)\n",
      "\n",
      "     Create an N-by-N magic square.\n",
      "\n",
      "     A magic square is an arrangement of the integers '1:n^2' such that\n",
      "     the row sums, column sums, and diagonal sums are all equal to the\n",
      "     same value.\n",
      "\n",
      "     Note: N must be greater than 2 for the magic square to exist.\n",
      "\n",
      "Additional help for built-in functions and operators is\n",
      "available in the online version of the manual.  Use the command\n",
      "'doc <topic>' to search the manual index.\n",
      "\n",
      "Help and information about Octave is also available on the WWW\n",
      "at http://www.octave.org and via the help@octave.org\n",
      "mailing list.\n"
     ]
    }
   ],
   "source": [
    "help magic"
   ]
  },
  {
   "cell_type": "code",
   "execution_count": 19,
   "metadata": {
    "collapsed": false
   },
   "outputs": [
    {
     "name": "stdout",
     "output_type": "stream",
     "text": [
      "A =\n",
      "\n",
      "   8   1   6\n",
      "   3   5   7\n",
      "   4   9   2\n",
      "\n"
     ]
    }
   ],
   "source": [
    "A = magic(3)"
   ]
  },
  {
   "cell_type": "code",
   "execution_count": 20,
   "metadata": {
    "collapsed": false
   },
   "outputs": [
    {
     "name": "stdout",
     "output_type": "stream",
     "text": [
      "r =\n",
      "\n",
      "   1\n",
      "   3\n",
      "   2\n",
      "\n",
      "c =\n",
      "\n",
      "   1\n",
      "   2\n",
      "   3\n",
      "\n"
     ]
    }
   ],
   "source": [
    "[r, c] = find(A >= 7)"
   ]
  },
  {
   "cell_type": "markdown",
   "metadata": {},
   "source": [
    "## Max value"
   ]
  },
  {
   "cell_type": "code",
   "execution_count": 21,
   "metadata": {
    "collapsed": false
   },
   "outputs": [
    {
     "name": "stdout",
     "output_type": "stream",
     "text": [
      "A =\n",
      "\n",
      "   8   1   6\n",
      "   3   5   7\n",
      "   4   9   2\n",
      "\n",
      "a =\n",
      "\n",
      "    1.00000   15.00000    2.00000    0.50000\n",
      "\n"
     ]
    }
   ],
   "source": [
    "A = magic(3)\n",
    "a = [1 15 2 .5]"
   ]
  },
  {
   "cell_type": "code",
   "execution_count": 22,
   "metadata": {
    "collapsed": false
   },
   "outputs": [
    {
     "name": "stdout",
     "output_type": "stream",
     "text": [
      "ans =  15\n"
     ]
    }
   ],
   "source": [
    "max(a)"
   ]
  },
  {
   "cell_type": "code",
   "execution_count": 23,
   "metadata": {
    "collapsed": false
   },
   "outputs": [
    {
     "name": "stdout",
     "output_type": "stream",
     "text": [
      "val =  15\n",
      "ind =  2\n"
     ]
    }
   ],
   "source": [
    "[val ind] = max(a)"
   ]
  },
  {
   "cell_type": "code",
   "execution_count": 24,
   "metadata": {
    "collapsed": false
   },
   "outputs": [
    {
     "name": "stdout",
     "output_type": "stream",
     "text": [
      "ans =\n",
      "\n",
      "   8   9   7\n",
      "\n"
     ]
    }
   ],
   "source": [
    "max(A) % perform column wise operation"
   ]
  },
  {
   "cell_type": "code",
   "execution_count": 25,
   "metadata": {
    "collapsed": false
   },
   "outputs": [
    {
     "name": "stdout",
     "output_type": "stream",
     "text": [
      "ans =\n",
      "\n",
      "   8   9   7\n",
      "\n"
     ]
    }
   ],
   "source": [
    "max(A, [], 1) % column wise"
   ]
  },
  {
   "cell_type": "code",
   "execution_count": 26,
   "metadata": {
    "collapsed": false
   },
   "outputs": [
    {
     "name": "stdout",
     "output_type": "stream",
     "text": [
      "ans =\n",
      "\n",
      "   8\n",
      "   7\n",
      "   9\n",
      "\n"
     ]
    }
   ],
   "source": [
    "max(A, [], 2) % row wise"
   ]
  },
  {
   "cell_type": "markdown",
   "metadata": {},
   "source": [
    "###### Entire Matrix"
   ]
  },
  {
   "cell_type": "code",
   "execution_count": 27,
   "metadata": {
    "collapsed": false
   },
   "outputs": [
    {
     "name": "stdout",
     "output_type": "stream",
     "text": [
      "ans =  9\n"
     ]
    }
   ],
   "source": [
    "max(max(A)) "
   ]
  },
  {
   "cell_type": "code",
   "execution_count": 28,
   "metadata": {
    "collapsed": false
   },
   "outputs": [
    {
     "name": "stdout",
     "output_type": "stream",
     "text": [
      "ans =  9\n"
     ]
    }
   ],
   "source": [
    "% turn into a column vector and apply max\n",
    "max(A(:))"
   ]
  },
  {
   "cell_type": "markdown",
   "metadata": {},
   "source": [
    "## More element wise operations"
   ]
  },
  {
   "cell_type": "code",
   "execution_count": 29,
   "metadata": {
    "collapsed": false
   },
   "outputs": [
    {
     "name": "stdout",
     "output_type": "stream",
     "text": [
      "ans =\n",
      "\n",
      "   1   0   1   1\n",
      "\n"
     ]
    }
   ],
   "source": [
    "a < 3 % element wise comparison"
   ]
  },
  {
   "cell_type": "code",
   "execution_count": 30,
   "metadata": {
    "collapsed": false
   },
   "outputs": [
    {
     "name": "stdout",
     "output_type": "stream",
     "text": [
      "ans =  18.500\n"
     ]
    }
   ],
   "source": [
    "sum(a) % sum each element"
   ]
  },
  {
   "cell_type": "code",
   "execution_count": 31,
   "metadata": {
    "collapsed": false
   },
   "outputs": [
    {
     "name": "stdout",
     "output_type": "stream",
     "text": [
      "ans =  15\n"
     ]
    }
   ],
   "source": [
    "prod(a) % multiply each element"
   ]
  },
  {
   "cell_type": "code",
   "execution_count": 32,
   "metadata": {
    "collapsed": false
   },
   "outputs": [
    {
     "name": "stdout",
     "output_type": "stream",
     "text": [
      "ans =\n",
      "\n",
      "    1   15    2    0\n",
      "\n"
     ]
    }
   ],
   "source": [
    "floor(a) % round down each element"
   ]
  },
  {
   "cell_type": "code",
   "execution_count": 33,
   "metadata": {
    "collapsed": false
   },
   "outputs": [
    {
     "name": "stdout",
     "output_type": "stream",
     "text": [
      "ans =\n",
      "\n",
      "    1   15    2    1\n",
      "\n"
     ]
    }
   ],
   "source": [
    "ceil(a) % round up each element"
   ]
  },
  {
   "cell_type": "code",
   "execution_count": 34,
   "metadata": {
    "collapsed": false
   },
   "outputs": [
    {
     "name": "stdout",
     "output_type": "stream",
     "text": [
      "ans =\n",
      "\n",
      "   0.59376   0.29353   0.43380\n",
      "   0.83083   0.95891   0.86848\n",
      "   0.84632   0.93532   0.79315\n",
      "\n"
     ]
    }
   ],
   "source": [
    "max(rand(3), rand(3))"
   ]
  },
  {
   "cell_type": "markdown",
   "metadata": {},
   "source": [
    "#### Extracting the main diagonal"
   ]
  },
  {
   "cell_type": "code",
   "execution_count": 35,
   "metadata": {
    "collapsed": false
   },
   "outputs": [
    {
     "name": "stdout",
     "output_type": "stream",
     "text": [
      "A =\n",
      "\n",
      "   47   58   69   80    1   12   23   34   45\n",
      "   57   68   79    9   11   22   33   44   46\n",
      "   67   78    8   10   21   32   43   54   56\n",
      "   77    7   18   20   31   42   53   55   66\n",
      "    6   17   19   30   41   52   63   65   76\n",
      "   16   27   29   40   51   62   64   75    5\n",
      "   26   28   39   50   61   72   74    4   15\n",
      "   36   38   49   60   71   73    3   14   25\n",
      "   37   48   59   70   81    2   13   24   35\n",
      "\n"
     ]
    }
   ],
   "source": [
    "A = magic(9)"
   ]
  },
  {
   "cell_type": "code",
   "execution_count": 36,
   "metadata": {
    "collapsed": false
   },
   "outputs": [
    {
     "name": "stdout",
     "output_type": "stream",
     "text": [
      "ans =\n",
      "\n",
      "   47    0    0    0    0    0    0    0    0\n",
      "    0   68    0    0    0    0    0    0    0\n",
      "    0    0    8    0    0    0    0    0    0\n",
      "    0    0    0   20    0    0    0    0    0\n",
      "    0    0    0    0   41    0    0    0    0\n",
      "    0    0    0    0    0   62    0    0    0\n",
      "    0    0    0    0    0    0   74    0    0\n",
      "    0    0    0    0    0    0    0   14    0\n",
      "    0    0    0    0    0    0    0    0   35\n",
      "\n"
     ]
    }
   ],
   "source": [
    "A .* eye(9)"
   ]
  },
  {
   "cell_type": "code",
   "execution_count": 37,
   "metadata": {
    "collapsed": false
   },
   "outputs": [
    {
     "name": "stdout",
     "output_type": "stream",
     "text": [
      "ans =  369\n"
     ]
    }
   ],
   "source": [
    "sum(sum(A .* eye(9))) % the sum of all diagonal entries"
   ]
  },
  {
   "cell_type": "markdown",
   "metadata": {},
   "source": [
    "## Trace"
   ]
  },
  {
   "cell_type": "code",
   "execution_count": 38,
   "metadata": {
    "collapsed": false
   },
   "outputs": [
    {
     "name": "stdout",
     "output_type": "stream",
     "text": [
      "ans =  369\n"
     ]
    }
   ],
   "source": [
    "trace(A) % i.e. the sum of main diagonal entries"
   ]
  },
  {
   "cell_type": "code",
   "execution_count": 39,
   "metadata": {
    "collapsed": false
   },
   "outputs": [
    {
     "name": "stdout",
     "output_type": "stream",
     "text": [
      "ans =\n",
      "\n",
      "Permutation Matrix\n",
      "\n",
      "   0   0   0   0   0   0   0   0   1\n",
      "   0   0   0   0   0   0   0   1   0\n",
      "   0   0   0   0   0   0   1   0   0\n",
      "   0   0   0   0   0   1   0   0   0\n",
      "   0   0   0   0   1   0   0   0   0\n",
      "   0   0   0   1   0   0   0   0   0\n",
      "   0   0   1   0   0   0   0   0   0\n",
      "   0   1   0   0   0   0   0   0   0\n",
      "   1   0   0   0   0   0   0   0   0\n",
      "\n"
     ]
    }
   ],
   "source": [
    "flipud(eye(9))"
   ]
  },
  {
   "cell_type": "code",
   "execution_count": 40,
   "metadata": {
    "collapsed": false
   },
   "outputs": [
    {
     "name": "stdout",
     "output_type": "stream",
     "text": [
      "ans =  369\n"
     ]
    }
   ],
   "source": [
    "sum(sum(A .* flipud(eye(9))))"
   ]
  },
  {
   "cell_type": "markdown",
   "metadata": {},
   "source": [
    "## Pseudoinverse"
   ]
  },
  {
   "cell_type": "code",
   "execution_count": 41,
   "metadata": {
    "collapsed": false
   },
   "outputs": [
    {
     "name": "stdout",
     "output_type": "stream",
     "text": [
      "'pinv' is a built-in function from the file libinterp/corefcn/pinv.cc\n",
      "\n",
      " -- Built-in Function: pinv (X)\n",
      " -- Built-in Function: pinv (X, TOL)\n",
      "     Return the pseudoinverse of X.\n",
      "\n",
      "     Singular values less than TOL are ignored.\n",
      "\n",
      "     If the second argument is omitted, it is taken to be\n",
      "\n",
      "          tol = max (size (X)) * sigma_max (X) * eps,\n",
      "\n",
      "     where 'sigma_max (X)' is the maximal singular value of X.\n",
      "\n",
      "Additional help for built-in functions and operators is\n",
      "available in the online version of the manual.  Use the command\n",
      "'doc <topic>' to search the manual index.\n",
      "\n",
      "Help and information about Octave is also available on the WWW\n",
      "at http://www.octave.org and via the help@octave.org\n",
      "mailing list.\n"
     ]
    }
   ],
   "source": [
    "help pinv"
   ]
  },
  {
   "cell_type": "code",
   "execution_count": 42,
   "metadata": {
    "collapsed": false
   },
   "outputs": [
    {
     "name": "stdout",
     "output_type": "stream",
     "text": [
      "p_inv =\n",
      "\n",
      "   0.147222  -0.144444   0.063889\n",
      "  -0.061111   0.022222   0.105556\n",
      "  -0.019444   0.188889  -0.102778\n",
      "\n"
     ]
    }
   ],
   "source": [
    "p_inv = pinv(magic(3))"
   ]
  },
  {
   "cell_type": "code",
   "execution_count": 43,
   "metadata": {
    "collapsed": false
   },
   "outputs": [
    {
     "name": "stdout",
     "output_type": "stream",
     "text": [
      "ans =\n",
      "\n",
      "   1.00000   0.00000  -0.00000\n",
      "  -0.00000   1.00000   0.00000\n",
      "   0.00000   0.00000   1.00000\n",
      "\n"
     ]
    }
   ],
   "source": [
    "p_inv * magic(3)"
   ]
  }
 ],
 "metadata": {
  "kernelspec": {
   "display_name": "Octave",
   "language": "octave",
   "name": "octave"
  },
  "language_info": {
   "file_extension": ".m",
   "help_links": [
    {
     "text": "GNU Octave",
     "url": "https://www.gnu.org/software/octave/support.html"
    },
    {
     "text": "Octave Kernel",
     "url": "https://github.com/Calysto/octave_kernel"
    },
    {
     "text": "MetaKernel Magics",
     "url": "https://github.com/calysto/metakernel/blob/master/metakernel/magics/README.md"
    }
   ],
   "mimetype": "text/x-octave",
   "name": "octave",
   "version": "4.0.3"
  }
 },
 "nbformat": 4,
 "nbformat_minor": 2
}
